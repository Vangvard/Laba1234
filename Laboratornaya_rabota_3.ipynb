{
 "cells": [
  {
   "cell_type": "code",
   "execution_count": 16,
   "metadata": {},
   "outputs": [],
   "source": [
    "import seaborn as sns\n",
    "from sklearn.preprocessing import PolynomialFeatures\n",
    "from sklearn.linear_model import LogisticRegression, LogisticRegressionCV\n",
    "from sklearn.model_selection import cross_val_score, StratifiedKFold\n",
    "from sklearn.model_selection import GridSearchCV"
   ]
  },
  {
   "cell_type": "code",
   "execution_count": 17,
   "metadata": {},
   "outputs": [
    {
     "name": "stdout",
     "output_type": "stream",
     "text": [
      "<class 'pandas.core.frame.DataFrame'>\n",
      "RangeIndex: 891 entries, 0 to 890\n",
      "Data columns (total 6 columns):\n",
      " #   Column    Non-Null Count  Dtype  \n",
      "---  ------    --------------  -----  \n",
      " 0   Survived  891 non-null    int64  \n",
      " 1   Pclass    891 non-null    int64  \n",
      " 2   Sex       891 non-null    object \n",
      " 3   Age       714 non-null    float64\n",
      " 4   SibSp     891 non-null    int64  \n",
      " 5   Parch     891 non-null    int64  \n",
      "dtypes: float64(1), int64(4), object(1)\n",
      "memory usage: 41.9+ KB\n"
     ]
    }
   ],
   "source": [
    "import numpy as np\n",
    "import pandas as pd\n",
    "import random\n",
    "import matplotlib.pyplot as plt\n",
    "%matplotlib inline\n",
    "data = pd.read_csv('train.csv'  , sep=',')\n",
    "data = data.drop(['PassengerId','Name','Ticket','Fare','Cabin','Embarked'], axis='columns') # первый аргумент - список ненужных признаков,\n",
    "                                                   # второй - поиск имен признаков по названиям колонок, а не строк\n",
    "data.info()"
   ]
  },
  {
   "cell_type": "code",
   "execution_count": 18,
   "metadata": {},
   "outputs": [
    {
     "data": {
      "text/plain": [
       "Survived         int64\n",
       "Pclass           int64\n",
       "Sex              int64\n",
       "Age              int64\n",
       "Member_Family    int32\n",
       "dtype: object"
      ]
     },
     "execution_count": 18,
     "metadata": {},
     "output_type": "execute_result"
    }
   ],
   "source": [
    "data['Sex']=np.where(data['Sex']=='male',1,data['Sex'])\n",
    "data['Sex']=np.where(data['Sex']=='female',0,data['Sex'])\n",
    "data['Sex']=data['Sex'].astype(np.int64)\n",
    "\n",
    "data['Age']=data['Age'].fillna(data['Age'].median())\n",
    "data['Age']=data['Age'].round(0)\n",
    "data['Age']=data['Age'].astype(np.int64)\n",
    "\n",
    "data['Member_Family']=data['Parch']+data['SibSp']\n",
    "data['Member_Family']=np.where(data['Member_Family']>0,1,0)\n",
    "data = data.drop(['Parch','SibSp'], axis='columns')\n",
    "data.dtypes"
   ]
  },
  {
   "cell_type": "code",
   "execution_count": 19,
   "metadata": {},
   "outputs": [
    {
     "data": {
      "text/html": [
       "<div>\n",
       "<style scoped>\n",
       "    .dataframe tbody tr th:only-of-type {\n",
       "        vertical-align: middle;\n",
       "    }\n",
       "\n",
       "    .dataframe tbody tr th {\n",
       "        vertical-align: top;\n",
       "    }\n",
       "\n",
       "    .dataframe thead th {\n",
       "        text-align: right;\n",
       "    }\n",
       "</style>\n",
       "<table border=\"1\" class=\"dataframe\">\n",
       "  <thead>\n",
       "    <tr style=\"text-align: right;\">\n",
       "      <th></th>\n",
       "      <th>Survived</th>\n",
       "      <th>Pclass</th>\n",
       "      <th>Sex</th>\n",
       "      <th>Age</th>\n",
       "      <th>Member_Family</th>\n",
       "    </tr>\n",
       "  </thead>\n",
       "  <tbody>\n",
       "    <tr>\n",
       "      <th>0</th>\n",
       "      <td>0</td>\n",
       "      <td>3</td>\n",
       "      <td>1</td>\n",
       "      <td>22</td>\n",
       "      <td>1</td>\n",
       "    </tr>\n",
       "    <tr>\n",
       "      <th>1</th>\n",
       "      <td>1</td>\n",
       "      <td>1</td>\n",
       "      <td>0</td>\n",
       "      <td>38</td>\n",
       "      <td>1</td>\n",
       "    </tr>\n",
       "    <tr>\n",
       "      <th>2</th>\n",
       "      <td>1</td>\n",
       "      <td>3</td>\n",
       "      <td>0</td>\n",
       "      <td>26</td>\n",
       "      <td>0</td>\n",
       "    </tr>\n",
       "    <tr>\n",
       "      <th>3</th>\n",
       "      <td>1</td>\n",
       "      <td>1</td>\n",
       "      <td>0</td>\n",
       "      <td>35</td>\n",
       "      <td>1</td>\n",
       "    </tr>\n",
       "    <tr>\n",
       "      <th>4</th>\n",
       "      <td>0</td>\n",
       "      <td>3</td>\n",
       "      <td>1</td>\n",
       "      <td>35</td>\n",
       "      <td>0</td>\n",
       "    </tr>\n",
       "  </tbody>\n",
       "</table>\n",
       "</div>"
      ],
      "text/plain": [
       "   Survived  Pclass  Sex  Age  Member_Family\n",
       "0         0       3    1   22              1\n",
       "1         1       1    0   38              1\n",
       "2         1       3    0   26              0\n",
       "3         1       1    0   35              1\n",
       "4         0       3    1   35              0"
      ]
     },
     "execution_count": 19,
     "metadata": {},
     "output_type": "execute_result"
    }
   ],
   "source": [
    "data.head(5)"
   ]
  },
  {
   "cell_type": "code",
   "execution_count": 20,
   "metadata": {},
   "outputs": [],
   "source": [
    "X = data[data.columns[:-1]]\n",
    "y = data['Survived']\n",
    "from sklearn.model_selection import train_test_split\n",
    "X_train, X_test, y_train, y_test = train_test_split(X, y)"
   ]
  },
  {
   "cell_type": "code",
   "execution_count": 6,
   "metadata": {},
   "outputs": [
    {
     "data": {
      "text/plain": [
       "<matplotlib.axes._subplots.AxesSubplot at 0xd4bd323700>"
      ]
     },
     "execution_count": 6,
     "metadata": {},
     "output_type": "execute_result"
    },
    {
     "data": {
      "image/png": "[encoded data removed]",
      "text/plain": [
       "<Figure size 432x288 with 1 Axes>"
      ]
     },
     "metadata": {
      "needs_background": "light"
     },
     "output_type": "display_data"
    }
   ],
   "source": [
    "X_train.reset_index(inplace=True,drop=True)\n",
    "y_train.reset_index(drop=True, inplace=True)\n",
    "\n",
    "dead=X_train[y_train == 0]\n",
    "isdead=dead[0:len(X_train[y_train == 0])-len(X_train[y_train == 1])]\n",
    "X_train_start = pd.concat([X_train,isdead],ignore_index = True)\n",
    "y_train_strat = pd.concat([y_train,pd.Series(np.ones(X_train_start.shape[0]-X_train.shape[0]))],\n",
    "                          ignore_index=True)\n",
    "                          \n",
    "sns.countplot(y_train_strat)"
   ]
  },
  {
   "cell_type": "code",
   "execution_count": 21,
   "metadata": {},
   "outputs": [],
   "source": [
    "from sklearn.preprocessing import MinMaxScaler\n",
    "from sklearn.neighbors import KNeighborsClassifier\n",
    "#Нормализация\n",
    "scaler = MinMaxScaler()\n",
    "X_train_scaled = pd.DataFrame(scaler.fit_transform(X_train_start), columns=X_train_start.columns)\n",
    "X_test_scaled = pd.DataFrame(scaler.transform(X_test), columns=X_train_start.columns)\n",
    "X_train_scaled = pd.DataFrame(scaler.fit_transform(X_train), columns=X_train.columns)\n",
    "X_test_scaled = pd.DataFrame(scaler.transform(X_test), columns=X_train.columns)\n"
   ]
  },
  {
   "cell_type": "code",
   "execution_count": 22,
   "metadata": {},
   "outputs": [],
   "source": [
    "col = ['coef_%s'%i for i in  list(X_train_scaled.columns.values) ]\n",
    "ind = ['C=%f'%i for i in [10**-5, 10**-4, 10**-3, 10**-2, 10**-1, 10**0, 10**1, 10**2, 10**3, 10**4, 10**5]]\n",
    "coef_matrix_simple = pd.DataFrame(index=ind, columns=col)"
   ]
  },
  {
   "cell_type": "code",
   "execution_count": 23,
   "metadata": {},
   "outputs": [],
   "source": [
    "from sklearn.metrics import accuracy_score, precision_score, recall_score, precision_recall_curve, roc_auc_score, f1_score, fbeta_score, auc"
   ]
  },
  {
   "cell_type": "code",
   "execution_count": 24,
   "metadata": {},
   "outputs": [
    {
     "name": "stdout",
     "output_type": "stream",
     "text": [
      "При С = 1e-05 точность равна 0.0\n",
      "При С = 0.0001 точность равна 0.0\n",
      "При С = 0.001 точность равна 0.0\n",
      "При С = 0.01 точность равна 0.9156626506024096\n",
      "При С = 0.1 точность равна 1.0\n",
      "При С = 1 точность равна 1.0\n",
      "При С = 10 точность равна 1.0\n",
      "При С = 100 точность равна 1.0\n",
      "При С = 1000 точность равна 1.0\n",
      "При С = 10000 точность равна 1.0\n",
      "При С = 100000 точность равна 1.0\n",
      "\n",
      "\n",
      "Максимальная точность (score), равная 1.0 , получается при С, равном 0.1\n"
     ]
    },
    {
     "data": {
      "text/html": [
       "<div>\n",
       "<style scoped>\n",
       "    .dataframe tbody tr th:only-of-type {\n",
       "        vertical-align: middle;\n",
       "    }\n",
       "\n",
       "    .dataframe tbody tr th {\n",
       "        vertical-align: top;\n",
       "    }\n",
       "\n",
       "    .dataframe thead th {\n",
       "        text-align: right;\n",
       "    }\n",
       "</style>\n",
       "<table border=\"1\" class=\"dataframe\">\n",
       "  <thead>\n",
       "    <tr style=\"text-align: right;\">\n",
       "      <th></th>\n",
       "      <th>coef_Survived</th>\n",
       "      <th>coef_Pclass</th>\n",
       "      <th>coef_Sex</th>\n",
       "      <th>coef_Age</th>\n",
       "    </tr>\n",
       "  </thead>\n",
       "  <tbody>\n",
       "    <tr>\n",
       "      <th>C=0.000010</th>\n",
       "      <td>0.00158</td>\n",
       "      <td>-0.0004</td>\n",
       "      <td>-0.000829</td>\n",
       "      <td>-5.08e-05</td>\n",
       "    </tr>\n",
       "    <tr>\n",
       "      <th>C=0.000100</th>\n",
       "      <td>0.0158</td>\n",
       "      <td>-0.00397</td>\n",
       "      <td>-0.00823</td>\n",
       "      <td>-0.000507</td>\n",
       "    </tr>\n",
       "    <tr>\n",
       "      <th>C=0.001000</th>\n",
       "      <td>0.151</td>\n",
       "      <td>-0.0372</td>\n",
       "      <td>-0.077</td>\n",
       "      <td>-0.00492</td>\n",
       "    </tr>\n",
       "    <tr>\n",
       "      <th>C=0.010000</th>\n",
       "      <td>1.08</td>\n",
       "      <td>-0.225</td>\n",
       "      <td>-0.453</td>\n",
       "      <td>-0.0389</td>\n",
       "    </tr>\n",
       "    <tr>\n",
       "      <th>C=0.100000</th>\n",
       "      <td>3.67</td>\n",
       "      <td>-0.475</td>\n",
       "      <td>-0.852</td>\n",
       "      <td>-0.151</td>\n",
       "    </tr>\n",
       "    <tr>\n",
       "      <th>C=1.000000</th>\n",
       "      <td>7.15</td>\n",
       "      <td>-0.595</td>\n",
       "      <td>-0.975</td>\n",
       "      <td>-0.284</td>\n",
       "    </tr>\n",
       "    <tr>\n",
       "      <th>C=10.000000</th>\n",
       "      <td>10.9</td>\n",
       "      <td>-0.67</td>\n",
       "      <td>-1.04</td>\n",
       "      <td>-0.399</td>\n",
       "    </tr>\n",
       "    <tr>\n",
       "      <th>C=100.000000</th>\n",
       "      <td>14.9</td>\n",
       "      <td>-0.724</td>\n",
       "      <td>-1.09</td>\n",
       "      <td>-0.496</td>\n",
       "    </tr>\n",
       "    <tr>\n",
       "      <th>C=1000.000000</th>\n",
       "      <td>19</td>\n",
       "      <td>-0.763</td>\n",
       "      <td>-1.11</td>\n",
       "      <td>-0.576</td>\n",
       "    </tr>\n",
       "    <tr>\n",
       "      <th>C=10000.000000</th>\n",
       "      <td>23.2</td>\n",
       "      <td>-0.697</td>\n",
       "      <td>-1.07</td>\n",
       "      <td>-0.823</td>\n",
       "    </tr>\n",
       "    <tr>\n",
       "      <th>C=100000.000000</th>\n",
       "      <td>27.6</td>\n",
       "      <td>-1.28</td>\n",
       "      <td>-1.22</td>\n",
       "      <td>-2.29</td>\n",
       "    </tr>\n",
       "  </tbody>\n",
       "</table>\n",
       "</div>"
      ],
      "text/plain": [
       "                coef_Survived coef_Pclass  coef_Sex  coef_Age\n",
       "C=0.000010            0.00158     -0.0004 -0.000829 -5.08e-05\n",
       "C=0.000100             0.0158    -0.00397  -0.00823 -0.000507\n",
       "C=0.001000              0.151     -0.0372    -0.077  -0.00492\n",
       "C=0.010000               1.08      -0.225    -0.453   -0.0389\n",
       "C=0.100000               3.67      -0.475    -0.852    -0.151\n",
       "C=1.000000               7.15      -0.595    -0.975    -0.284\n",
       "C=10.000000              10.9       -0.67     -1.04    -0.399\n",
       "C=100.000000             14.9      -0.724     -1.09    -0.496\n",
       "C=1000.000000              19      -0.763     -1.11    -0.576\n",
       "C=10000.000000           23.2      -0.697     -1.07    -0.823\n",
       "C=100000.000000          27.6       -1.28     -1.22     -2.29"
      ]
     },
     "execution_count": 24,
     "metadata": {},
     "output_type": "execute_result"
    }
   ],
   "source": [
    "accuracy = []\n",
    "C_list = [10**-5, 10**-4, 10**-3, 10**-2, 10**-1, 10**0, 10**1, 10**2, 10**3, 10**4, 10**5]\n",
    "\n",
    "for i in range(0, len(C_list)):\n",
    "    clf = LogisticRegression(C=C_list[i], random_state=10, solver='lbfgs', max_iter=200)\n",
    "    clf.fit(X_train_scaled, y_train)\n",
    "    a=clf.predict(X_test_scaled)\n",
    "    current_score = recall_score(y_test, a)\n",
    "    coef_matrix_simple.iloc[i,:]=clf.coef_\n",
    "    accuracy.append(current_score)\n",
    "    print('При С =', C_list[i], 'точность равна', current_score)\n",
    "max_score = 0    \n",
    "for i in range(0, len(accuracy)):\n",
    "    if max_score < accuracy[i]:\n",
    "        max_score = accuracy[i]\n",
    "        C_for_max_score = i\n",
    "print('\\n')\n",
    "print('Максимальная точность (score), равная', max_score,', получается при С, равном', C_list[C_for_max_score])\n",
    "pd.options.display.float_format = '{:,.3g}'.format\n",
    "coef_matrix_simple"
   ]
  },
  {
   "cell_type": "code",
   "execution_count": 26,
   "metadata": {
    "scrolled": true
   },
   "outputs": [
    {
     "name": "stdout",
     "output_type": "stream",
     "text": [
      "Accuracy: 1.0\n",
      "Precision: 1.0\n",
      "Recall: 1.0\n",
      "ROC AUC: 1.0\n",
      "PRC AUC: 1.0\n",
      "F1: 1.0\n",
      "F0.5: 1.0\n",
      "F2: 1.0\n"
     ]
    },
    {
     "name": "stderr",
     "output_type": "stream",
     "text": [
      "C:\\ProgramData\\Anaconda3\\lib\\site-packages\\sklearn\\utils\\validation.py:68: FutureWarning: Pass beta=0.5 as keyword args. From version 0.25 passing these as positional arguments will result in an error\n",
      "  warnings.warn(\"Pass {} as keyword args. From version 0.25 \"\n",
      "C:\\ProgramData\\Anaconda3\\lib\\site-packages\\sklearn\\utils\\validation.py:68: FutureWarning: Pass beta=2 as keyword args. From version 0.25 passing these as positional arguments will result in an error\n",
      "  warnings.warn(\"Pass {} as keyword args. From version 0.25 \"\n"
     ]
    }
   ],
   "source": [
    "clf = LogisticRegression(C=C_list[C_for_max_score], random_state=10,max_iter=200,solver='lbfgs')\n",
    "#clf.fit(X_train_scaled, y_train_strat)\n",
    "clf.fit(X_train_scaled, y_train)\n",
    "a=clf.predict(X_test_scaled)\n",
    "print('Accuracy:', accuracy_score(y_test, a))\n",
    "print('Precision:', precision_score(y_test, a))\n",
    "print('Recall:', recall_score(y_test, a))\n",
    "print('ROC AUC:', roc_auc_score(y_test, a))\n",
    "pr, rec, _ = precision_recall_curve(y_test, a)\n",
    "print('PRC AUC:', auc(rec, pr))\n",
    "print('F1:', f1_score(y_test, a))\n",
    "print('F0.5:', fbeta_score(y_test, a, 0.5))\n",
    "print('F2:', fbeta_score(y_test, a, 2))"
   ]
  },
  {
   "cell_type": "code",
   "execution_count": 27,
   "metadata": {},
   "outputs": [
    {
     "name": "stdout",
     "output_type": "stream",
     "text": [
      "При С = 1e-05 точность равна 0.0\n",
      "При С = 0.0001 точность равна 0.0\n",
      "При С = 0.001 точность равна 0.0\n",
      "При С = 0.01 точность равна 1.0\n",
      "При С = 0.1 точность равна 1.0\n",
      "При С = 1 точность равна 1.0\n",
      "При С = 10 точность равна 1.0\n",
      "При С = 100 точность равна 1.0\n",
      "При С = 1000 точность равна 1.0\n",
      "При С = 10000 точность равна 1.0\n",
      "При С = 100000 точность равна 1.0\n",
      "\n",
      "\n",
      "Максимальная точность (score), равная 1.0 , получается при С, равном 0.01\n"
     ]
    },
    {
     "data": {
      "text/html": [
       "<div>\n",
       "<style scoped>\n",
       "    .dataframe tbody tr th:only-of-type {\n",
       "        vertical-align: middle;\n",
       "    }\n",
       "\n",
       "    .dataframe tbody tr th {\n",
       "        vertical-align: top;\n",
       "    }\n",
       "\n",
       "    .dataframe thead th {\n",
       "        text-align: right;\n",
       "    }\n",
       "</style>\n",
       "<table border=\"1\" class=\"dataframe\">\n",
       "  <thead>\n",
       "    <tr style=\"text-align: right;\">\n",
       "      <th></th>\n",
       "      <th>coef_Survived</th>\n",
       "      <th>coef_Pclass</th>\n",
       "      <th>coef_Sex</th>\n",
       "      <th>coef_Age</th>\n",
       "    </tr>\n",
       "  </thead>\n",
       "  <tbody>\n",
       "    <tr>\n",
       "      <th>C=0.000010</th>\n",
       "      <td>0</td>\n",
       "      <td>0</td>\n",
       "      <td>0</td>\n",
       "      <td>0</td>\n",
       "    </tr>\n",
       "    <tr>\n",
       "      <th>C=0.000100</th>\n",
       "      <td>0</td>\n",
       "      <td>0</td>\n",
       "      <td>0</td>\n",
       "      <td>0</td>\n",
       "    </tr>\n",
       "    <tr>\n",
       "      <th>C=0.001000</th>\n",
       "      <td>0</td>\n",
       "      <td>0</td>\n",
       "      <td>0</td>\n",
       "      <td>0</td>\n",
       "    </tr>\n",
       "    <tr>\n",
       "      <th>C=0.010000</th>\n",
       "      <td>0.599</td>\n",
       "      <td>0</td>\n",
       "      <td>-0.41</td>\n",
       "      <td>0</td>\n",
       "    </tr>\n",
       "    <tr>\n",
       "      <th>C=0.100000</th>\n",
       "      <td>5.88</td>\n",
       "      <td>-0.0775</td>\n",
       "      <td>-0.695</td>\n",
       "      <td>0</td>\n",
       "    </tr>\n",
       "    <tr>\n",
       "      <th>C=1.000000</th>\n",
       "      <td>10.6</td>\n",
       "      <td>-0.0945</td>\n",
       "      <td>-0.676</td>\n",
       "      <td>0</td>\n",
       "    </tr>\n",
       "    <tr>\n",
       "      <th>C=10.000000</th>\n",
       "      <td>15.1</td>\n",
       "      <td>-0.262</td>\n",
       "      <td>-0.758</td>\n",
       "      <td>0</td>\n",
       "    </tr>\n",
       "    <tr>\n",
       "      <th>C=100.000000</th>\n",
       "      <td>19.5</td>\n",
       "      <td>-1.78</td>\n",
       "      <td>-1.86</td>\n",
       "      <td>-1.03</td>\n",
       "    </tr>\n",
       "    <tr>\n",
       "      <th>C=1000.000000</th>\n",
       "      <td>22.8</td>\n",
       "      <td>-3.51</td>\n",
       "      <td>-2.42</td>\n",
       "      <td>-5.96</td>\n",
       "    </tr>\n",
       "    <tr>\n",
       "      <th>C=10000.000000</th>\n",
       "      <td>23.6</td>\n",
       "      <td>-3.82</td>\n",
       "      <td>-2.58</td>\n",
       "      <td>-6.69</td>\n",
       "    </tr>\n",
       "    <tr>\n",
       "      <th>C=100000.000000</th>\n",
       "      <td>23.7</td>\n",
       "      <td>-3.86</td>\n",
       "      <td>-2.6</td>\n",
       "      <td>-6.78</td>\n",
       "    </tr>\n",
       "  </tbody>\n",
       "</table>\n",
       "</div>"
      ],
      "text/plain": [
       "                coef_Survived coef_Pclass coef_Sex coef_Age\n",
       "C=0.000010                  0           0        0        0\n",
       "C=0.000100                  0           0        0        0\n",
       "C=0.001000                  0           0        0        0\n",
       "C=0.010000              0.599           0    -0.41        0\n",
       "C=0.100000               5.88     -0.0775   -0.695        0\n",
       "C=1.000000               10.6     -0.0945   -0.676        0\n",
       "C=10.000000              15.1      -0.262   -0.758        0\n",
       "C=100.000000             19.5       -1.78    -1.86    -1.03\n",
       "C=1000.000000            22.8       -3.51    -2.42    -5.96\n",
       "C=10000.000000           23.6       -3.82    -2.58    -6.69\n",
       "C=100000.000000          23.7       -3.86     -2.6    -6.78"
      ]
     },
     "execution_count": 27,
     "metadata": {},
     "output_type": "execute_result"
    }
   ],
   "source": [
    " accuracy = []\n",
    "C_list = [10**-5, 10**-4, 10**-3, 10**-2, 10**-1, 10**0, 10**1, 10**2, 10**3, 10**4, 10**5]\n",
    "\n",
    "for i in range(0, len(C_list)):\n",
    "    clf = LogisticRegression(C=C_list[i], random_state=10, penalty='l1',solver='liblinear', max_iter=200)\n",
    "    clf.fit(X_train_scaled, y_train)\n",
    "    a=clf.predict(X_test_scaled)\n",
    "    #pr, rec, _ = precision_recall_curve(y_test, a)\n",
    "    current_score = recall_score(y_test, a)\n",
    "    coef_matrix_simple.iloc[i,:]=clf.coef_\n",
    "    accuracy.append(current_score)\n",
    "    print('При С =', C_list[i], 'точность равна', current_score)\n",
    "max_score = 0    \n",
    "for i in range(0, len(accuracy)):\n",
    "    if max_score < accuracy[i]:\n",
    "        max_score = accuracy[i]\n",
    "        C_for_max_score = i\n",
    "print('\\n')\n",
    "print('Максимальная точность (score), равная', max_score,', получается при С, равном', C_list[C_for_max_score])\n",
    "coef_matrix_simple"
   ]
  },
  {
   "cell_type": "code",
   "execution_count": null,
   "metadata": {},
   "outputs": [],
   "source": []
  },
  {
   "cell_type": "code",
   "execution_count": null,
   "metadata": {},
   "outputs": [],
   "source": []
  },
  {
   "cell_type": "code",
   "execution_count": null,
   "metadata": {},
   "outputs": [],
   "source": []
  },
  {
   "cell_type": "code",
   "execution_count": null,
   "metadata": {},
   "outputs": [],
   "source": []
  }
 ],
 "metadata": {
  "kernelspec": {
   "display_name": "Python 3",
   "language": "python",
   "name": "python3"
  },
  "language_info": {
   "codemirror_mode": {
    "name": "ipython",
    "version": 3
   },
   "file_extension": ".py",
   "mimetype": "text/x-python",
   "name": "python",
   "nbconvert_exporter": "python",
   "pygments_lexer": "ipython3",
   "version": "3.8.3"
  }
 },
 "nbformat": 4,
 "nbformat_minor": 4
}
